{
 "cells": [
  {
   "cell_type": "code",
   "execution_count": 4,
   "id": "f8d26223-0fcc-4a9d-9409-1d47267d2633",
   "metadata": {},
   "outputs": [
    {
     "name": "stdin",
     "output_type": "stream",
     "text": [
      "how old are you 12\n"
     ]
    },
    {
     "name": "stdout",
     "output_type": "stream",
     "text": [
      "<class 'int'>\n"
     ]
    }
   ],
   "source": [
    "number= input (\"how old are you\")\n",
    "number=int(number)\n",
    "print (type(number))"
   ]
  },
  {
   "cell_type": "code",
   "execution_count": 6,
   "id": "2e27b800-da73-4b91-abcf-bf80d5f430ac",
   "metadata": {},
   "outputs": [
    {
     "name": "stdin",
     "output_type": "stream",
     "text": [
      "enter a decimal number 11.11\n"
     ]
    },
    {
     "name": "stdout",
     "output_type": "stream",
     "text": [
      "<class 'float'>\n"
     ]
    }
   ],
   "source": [
    "number= input (\"enter a decimal number\")\n",
    "number=float(number)\n",
    "print (type(number))"
   ]
  },
  {
   "cell_type": "code",
   "execution_count": 9,
   "id": "34c3b578-5612-4d2f-9751-d96e78806bf6",
   "metadata": {},
   "outputs": [
    {
     "name": "stdout",
     "output_type": "stream",
     "text": [
      "0\n"
     ]
    }
   ],
   "source": [
    "ab=False\n",
    "ab=int(ab)\n",
    "print (ab)"
   ]
  },
  {
   "cell_type": "code",
   "execution_count": 10,
   "id": "a7d81909-1537-4062-a8ef-dbc92fed06cc",
   "metadata": {},
   "outputs": [
    {
     "name": "stdout",
     "output_type": "stream",
     "text": [
      "1\n"
     ]
    }
   ],
   "source": [
    "ab=True\n",
    "ab=int(ab)\n",
    "print (ab)"
   ]
  },
  {
   "cell_type": "code",
   "execution_count": null,
   "id": "da363db7-91bd-4975-9ec1-f14b0bd70dd8",
   "metadata": {},
   "outputs": [],
   "source": []
  }
 ],
 "metadata": {
  "kernelspec": {
   "display_name": "Python [conda env:base] *",
   "language": "python",
   "name": "conda-base-py"
  },
  "language_info": {
   "codemirror_mode": {
    "name": "ipython",
    "version": 3
   },
   "file_extension": ".py",
   "mimetype": "text/x-python",
   "name": "python",
   "nbconvert_exporter": "python",
   "pygments_lexer": "ipython3",
   "version": "3.13.5"
  }
 },
 "nbformat": 4,
 "nbformat_minor": 5
}
