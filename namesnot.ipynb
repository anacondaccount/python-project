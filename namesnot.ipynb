{
 "cells": [
  {
   "cell_type": "code",
   "execution_count": 5,
   "id": "e5cc1be4-0168-4291-83bb-ea4bc0b45e00",
   "metadata": {},
   "outputs": [
    {
     "name": "stdin",
     "output_type": "stream",
     "text": [
      "enter first name with\n",
      "enter second name with\n"
     ]
    },
    {
     "name": "stdout",
     "output_type": "stream",
     "text": [
      "the same name\n"
     ]
    }
   ],
   "source": [
    "name1=(input(\"enter first name\"))\n",
    "name2=(input(\"enter second name\"))\n",
    "if (name1 != name2):\n",
    "    print(\"not the same name\")\n",
    "else:\n",
    "    print(\"the same name\")\n",
    "    "
   ]
  },
  {
   "cell_type": "code",
   "execution_count": 6,
   "id": "14ccdd3d-96f2-4b0f-9799-96251c50c5e1",
   "metadata": {},
   "outputs": [
    {
     "name": "stdin",
     "output_type": "stream",
     "text": [
      "enter first name bob\n",
      "enter second name jim\n"
     ]
    },
    {
     "name": "stdout",
     "output_type": "stream",
     "text": [
      "not the same name\n"
     ]
    }
   ],
   "source": [
    "name1=(input(\"enter first name\"))\n",
    "name2=(input(\"enter second name\"))\n",
    "if (name1 != name2):\n",
    "    print(\"not the same name\")\n",
    "else:\n",
    "    print(\"the same name\")\n",
    "    "
   ]
  },
  {
   "cell_type": "code",
   "execution_count": null,
   "id": "5ee5656d-d108-46df-ac2d-f52fdcc2a085",
   "metadata": {},
   "outputs": [],
   "source": []
  }
 ],
 "metadata": {
  "kernelspec": {
   "display_name": "Python [conda env:base] *",
   "language": "python",
   "name": "conda-base-py"
  },
  "language_info": {
   "codemirror_mode": {
    "name": "ipython",
    "version": 3
   },
   "file_extension": ".py",
   "mimetype": "text/x-python",
   "name": "python",
   "nbconvert_exporter": "python",
   "pygments_lexer": "ipython3",
   "version": "3.13.5"
  }
 },
 "nbformat": 4,
 "nbformat_minor": 5
}
