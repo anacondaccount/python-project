{
 "cells": [
  {
   "cell_type": "code",
   "execution_count": 1,
   "id": "431a1766-bc82-4e50-99b4-5f40ca424c90",
   "metadata": {},
   "outputs": [
    {
     "name": "stdin",
     "output_type": "stream",
     "text": [
      "Enter the current temperature (°C):  50\n"
     ]
    },
    {
     "name": "stdout",
     "output_type": "stream",
     "text": [
      "Temperature: 50.0°C\n",
      "Clothing advice: It's warm! Light clothes are suitable. 🌞\n"
     ]
    }
   ],
   "source": [
    "# Temperature-based clothing suggestion\n",
    "\n",
    "def clothing_advice(temp_celsius: float) -> str:\n",
    "    \"\"\"\n",
    "    Suggest clothing based on temperature in Celsius.\n",
    "    \"\"\"\n",
    "    if temp_celsius >= 25:\n",
    "        return \"It's warm! Light clothes are suitable. 🌞\"\n",
    "    elif 15 <= temp_celsius < 25:\n",
    "        return \"Mild weather. Light clothes with a light jacket or layers would be good. 🌤️\"\n",
    "    else:\n",
    "        return \"It's cool/chilly. Better to wear warm clothes. ❄️\"\n",
    "\n",
    "# Example: enter the temperature manually\n",
    "temperature = float(input(\"Enter the current temperature (°C): \"))\n",
    "advice = clothing_advice(temperature)\n",
    "\n",
    "print(f\"Temperature: {temperature}°C\")\n",
    "print(f\"Clothing advice: {advice}\")\n"
   ]
  },
  {
   "cell_type": "code",
   "execution_count": null,
   "id": "8447c74a-7cae-45eb-ae4a-2ab798cdaf81",
   "metadata": {},
   "outputs": [],
   "source": []
  }
 ],
 "metadata": {
  "kernelspec": {
   "display_name": "Python [conda env:base] *",
   "language": "python",
   "name": "conda-base-py"
  },
  "language_info": {
   "codemirror_mode": {
    "name": "ipython",
    "version": 3
   },
   "file_extension": ".py",
   "mimetype": "text/x-python",
   "name": "python",
   "nbconvert_exporter": "python",
   "pygments_lexer": "ipython3",
   "version": "3.13.5"
  }
 },
 "nbformat": 4,
 "nbformat_minor": 5
}
