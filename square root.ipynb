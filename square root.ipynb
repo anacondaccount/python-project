{
 "cells": [
  {
   "cell_type": "code",
   "execution_count": 2,
   "id": "6c6b5e74-cb05-4fd4-99cc-8445baf42391",
   "metadata": {},
   "outputs": [
    {
     "name": "stdin",
     "output_type": "stream",
     "text": [
      "Enter a number:  4\n"
     ]
    },
    {
     "name": "stdout",
     "output_type": "stream",
     "text": [
      "The square root of 4.0 is 2.0\n"
     ]
    }
   ],
   "source": [
    "import math\n",
    "\n",
    "# Ask user for a number\n",
    "num = float(input(\"Enter a number: \"))\n",
    "\n",
    "if num < 0:\n",
    "    print(\"Square root of a negative number is not real. ❌\")\n",
    "else:\n",
    "    sqrt_value = math.sqrt(num)\n",
    "    print(f\"The square root of {num} is {sqrt_value}\")\n"
   ]
  },
  {
   "cell_type": "code",
   "execution_count": 6,
   "id": "a9078351-0dc2-4585-b083-121806c55342",
   "metadata": {},
   "outputs": [
    {
     "name": "stdin",
     "output_type": "stream",
     "text": [
      "Enter a number:  -5\n"
     ]
    },
    {
     "name": "stdout",
     "output_type": "stream",
     "text": [
      "Square root of a negative number is not real. ❌\n"
     ]
    }
   ],
   "source": [
    "import math\n",
    "\n",
    "# Ask user for a number\n",
    "num = float(input(\"Enter a number: \"))\n",
    "\n",
    "if num < 0:\n",
    "    print(\"Square root of a negative number is not real. ❌\")\n",
    "else:\n",
    "    sqrt_value = math.sqrt(num)\n",
    "    print(f\"The square root of {num} is {sqrt_value}\")\n"
   ]
  },
  {
   "cell_type": "code",
   "execution_count": null,
   "id": "b902d3f5-af56-4a5b-8a26-1a1421ccb7a3",
   "metadata": {},
   "outputs": [],
   "source": []
  }
 ],
 "metadata": {
  "kernelspec": {
   "display_name": "Python [conda env:base] *",
   "language": "python",
   "name": "conda-base-py"
  },
  "language_info": {
   "codemirror_mode": {
    "name": "ipython",
    "version": 3
   },
   "file_extension": ".py",
   "mimetype": "text/x-python",
   "name": "python",
   "nbconvert_exporter": "python",
   "pygments_lexer": "ipython3",
   "version": "3.13.5"
  }
 },
 "nbformat": 4,
 "nbformat_minor": 5
}
