{
 "cells": [
  {
   "cell_type": "code",
   "execution_count": 4,
   "id": "067154f0-4d8b-49c3-ab61-a6d040b4c00a",
   "metadata": {},
   "outputs": [
    {
     "name": "stdin",
     "output_type": "stream",
     "text": [
      "enter your name Kawin\n"
     ]
    },
    {
     "name": "stdout",
     "output_type": "stream",
     "text": [
      "hello Kawin\n"
     ]
    }
   ],
   "source": [
    "name= input (\"enter your name\")\n",
    "print (\"hello \"+name)"
   ]
  },
  {
   "cell_type": "code",
   "execution_count": 5,
   "id": "33164963-e0f1-4b78-b2f1-176ce4d70182",
   "metadata": {},
   "outputs": [
    {
     "name": "stdin",
     "output_type": "stream",
     "text": [
      "enter your name Kawin\n",
      "enter your age 12\n"
     ]
    },
    {
     "name": "stdout",
     "output_type": "stream",
     "text": [
      "hello Kawin\n",
      "you are 12\n"
     ]
    }
   ],
   "source": [
    "name= input (\"enter your name\")\n",
    "age= input (\"enter your age\")\n",
    "print (\"hello \"+name)\n",
    "print (\"you are \"+ age)"
   ]
  },
  {
   "cell_type": "code",
   "execution_count": null,
   "id": "a1fe7a1e-0352-4dc6-8216-f2a24f829d35",
   "metadata": {},
   "outputs": [],
   "source": []
  }
 ],
 "metadata": {
  "kernelspec": {
   "display_name": "Python [conda env:base] *",
   "language": "python",
   "name": "conda-base-py"
  },
  "language_info": {
   "codemirror_mode": {
    "name": "ipython",
    "version": 3
   },
   "file_extension": ".py",
   "mimetype": "text/x-python",
   "name": "python",
   "nbconvert_exporter": "python",
   "pygments_lexer": "ipython3",
   "version": "3.13.5"
  }
 },
 "nbformat": 4,
 "nbformat_minor": 5
}
