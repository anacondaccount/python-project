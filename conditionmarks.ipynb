{
 "cells": [
  {
   "cell_type": "code",
   "execution_count": 8,
   "id": "bb3f4915-88a7-4987-a3c8-600fb83b0797",
   "metadata": {},
   "outputs": [
    {
     "name": "stdin",
     "output_type": "stream",
     "text": [
      "how many marks did you get 100\n"
     ]
    },
    {
     "name": "stdout",
     "output_type": "stream",
     "text": [
      "you passed your exam \n"
     ]
    }
   ],
   "source": [
    "marks =int(input (\"how many marks did you get\"))\n",
    "if marks>60:\n",
    "    print(\"you passed your exam \")\n",
    "else:\n",
    "    print(\"you failed\")"
   ]
  },
  {
   "cell_type": "code",
   "execution_count": 9,
   "id": "dcbb54bf-ab16-42aa-88c6-6a6eb8d2a914",
   "metadata": {},
   "outputs": [
    {
     "name": "stdin",
     "output_type": "stream",
     "text": [
      "how many marks did you get 1\n"
     ]
    },
    {
     "name": "stdout",
     "output_type": "stream",
     "text": [
      "you failed\n"
     ]
    }
   ],
   "source": [
    "marks =int(input (\"how many marks did you get\"))\n",
    "if marks>60:\n",
    "    print(\"you passed your exam \")\n",
    "else:\n",
    "    print(\"you failed\")"
   ]
  },
  {
   "cell_type": "code",
   "execution_count": null,
   "id": "6efa325b-3ded-40a6-86b4-ab81fb0b8b1e",
   "metadata": {},
   "outputs": [],
   "source": []
  }
 ],
 "metadata": {
  "kernelspec": {
   "display_name": "Python [conda env:base] *",
   "language": "python",
   "name": "conda-base-py"
  },
  "language_info": {
   "codemirror_mode": {
    "name": "ipython",
    "version": 3
   },
   "file_extension": ".py",
   "mimetype": "text/x-python",
   "name": "python",
   "nbconvert_exporter": "python",
   "pygments_lexer": "ipython3",
   "version": "3.13.5"
  }
 },
 "nbformat": 4,
 "nbformat_minor": 5
}
