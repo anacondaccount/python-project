{
 "cells": [
  {
   "cell_type": "code",
   "execution_count": 3,
   "id": "f1a540e4-0f89-4d36-8b0d-bc7ba1c5fc3b",
   "metadata": {},
   "outputs": [
    {
     "name": "stdin",
     "output_type": "stream",
     "text": [
      "congradulate your friend yaa\n"
     ]
    },
    {
     "name": "stdout",
     "output_type": "stream",
     "text": [
      "YAA\n"
     ]
    }
   ],
   "source": [
    "ask= input (\"congradulate your friend\")\n",
    "sentence= ask\n",
    "uppertext=sentence.upper()\n",
    "print (uppertext)"
   ]
  },
  {
   "cell_type": "code",
   "execution_count": null,
   "id": "9b4f1427-890d-49e4-b390-7bd21556107a",
   "metadata": {},
   "outputs": [],
   "source": []
  }
 ],
 "metadata": {
  "kernelspec": {
   "display_name": "Python [conda env:base] *",
   "language": "python",
   "name": "conda-base-py"
  },
  "language_info": {
   "codemirror_mode": {
    "name": "ipython",
    "version": 3
   },
   "file_extension": ".py",
   "mimetype": "text/x-python",
   "name": "python",
   "nbconvert_exporter": "python",
   "pygments_lexer": "ipython3",
   "version": "3.13.5"
  }
 },
 "nbformat": 4,
 "nbformat_minor": 5
}
