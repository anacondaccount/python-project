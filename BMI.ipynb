{
 "cells": [
  {
   "cell_type": "code",
   "execution_count": 1,
   "id": "4c2c05ae-9a29-4312-b4fc-0c035176dc16",
   "metadata": {},
   "outputs": [
    {
     "name": "stdin",
     "output_type": "stream",
     "text": [
      "what is your weight 1\n",
      "what is your height 1\n"
     ]
    },
    {
     "name": "stdout",
     "output_type": "stream",
     "text": [
      "underweight\n"
     ]
    }
   ],
   "source": [
    "weight=(float(input(\"what is your weight\")))\n",
    "height=(float(input(\"what is your height\")))\n",
    "BMI=weight/height*height\n",
    "if BMI<18.5:\n",
    "    print(\"underweight\")\n",
    "elif BMI>=18.5 and BMI<=24.5:\n",
    "    print(\"normal\")\n",
    "elif BMI>=25 and BMI<=29.9:\n",
    "    print(\"overweight\")\n",
    "elif BMI>=30 and BMI<=34.9:\n",
    "    print(\"obese\")\n",
    "elif BMI>35:\n",
    "    print(\"extreme obese\")"
   ]
  },
  {
   "cell_type": "code",
   "execution_count": 2,
   "id": "bb6692f5-94cd-423b-b31a-3709fd4ab1e1",
   "metadata": {},
   "outputs": [
    {
     "name": "stdin",
     "output_type": "stream",
     "text": [
      "what is your weight 20.5\n",
      "what is your height 1.2\n"
     ]
    },
    {
     "name": "stdout",
     "output_type": "stream",
     "text": [
      "normal\n"
     ]
    }
   ],
   "source": [
    "weight=(float(input(\"what is your weight\")))\n",
    "height=(float(input(\"what is your height\")))\n",
    "BMI=weight/height*height\n",
    "if BMI<18.5:\n",
    "    print(\"underweight\")\n",
    "elif BMI>=18.5 and BMI<=24.5:\n",
    "    print(\"normal\")\n",
    "elif BMI>=25 and BMI<=29.9:\n",
    "    print(\"overweight\")\n",
    "elif BMI>=30 and BMI<=34.9:\n",
    "    print(\"obese\")\n",
    "elif BMI>35:\n",
    "    print(\"extreme obese\")"
   ]
  },
  {
   "cell_type": "code",
   "execution_count": 3,
   "id": "2b917557-d33a-441d-a67c-4d611f508cac",
   "metadata": {},
   "outputs": [
    {
     "name": "stdin",
     "output_type": "stream",
     "text": [
      "what is your weight 30.7\n",
      "what is your height 1\n"
     ]
    },
    {
     "name": "stdout",
     "output_type": "stream",
     "text": [
      "obese\n"
     ]
    }
   ],
   "source": [
    "weight=(float(input(\"what is your weight\")))\n",
    "height=(float(input(\"what is your height\")))\n",
    "BMI=weight/height*height\n",
    "if BMI<18.5:\n",
    "    print(\"underweight\")\n",
    "elif BMI>=18.5 and BMI<=24.5:\n",
    "    print(\"normal\")\n",
    "elif BMI>=25 and BMI<=29.9:\n",
    "    print(\"overweight\")\n",
    "elif BMI>=30 and BMI<=34.9:\n",
    "    print(\"obese\")\n",
    "elif BMI>35:\n",
    "    print(\"extreme obese\")"
   ]
  },
  {
   "cell_type": "code",
   "execution_count": 5,
   "id": "47e998e7-b77b-4a46-9e12-9eb6da625707",
   "metadata": {},
   "outputs": [
    {
     "name": "stdin",
     "output_type": "stream",
     "text": [
      "what is your weight 40.9\n",
      "what is your height 1\n"
     ]
    },
    {
     "name": "stdout",
     "output_type": "stream",
     "text": [
      "extreme obese\n"
     ]
    }
   ],
   "source": [
    "weight=(float(input(\"what is your weight\")))\n",
    "height=(float(input(\"what is your height\")))\n",
    "BMI=weight/height*height\n",
    "if BMI<18.5:\n",
    "    print(\"underweight\")\n",
    "elif BMI>=18.5 and BMI<=24.5:\n",
    "    print(\"normal\")\n",
    "elif BMI>=25 and BMI<=29.9:\n",
    "    print(\"overweight\")\n",
    "elif BMI>=30 and BMI<=34.9:\n",
    "    print(\"obese\")\n",
    "elif BMI>35:\n",
    "    print(\"extreme obese\")"
   ]
  },
  {
   "cell_type": "code",
   "execution_count": null,
   "id": "a57f48aa-72e5-4f13-924b-fdfad28ad150",
   "metadata": {},
   "outputs": [],
   "source": []
  }
 ],
 "metadata": {
  "kernelspec": {
   "display_name": "Python [conda env:base] *",
   "language": "python",
   "name": "conda-base-py"
  },
  "language_info": {
   "codemirror_mode": {
    "name": "ipython",
    "version": 3
   },
   "file_extension": ".py",
   "mimetype": "text/x-python",
   "name": "python",
   "nbconvert_exporter": "python",
   "pygments_lexer": "ipython3",
   "version": "3.13.5"
  }
 },
 "nbformat": 4,
 "nbformat_minor": 5
}
