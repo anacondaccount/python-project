{
 "cells": [
  {
   "cell_type": "code",
   "execution_count": 2,
   "id": "95798bba-2772-45bb-af47-57accd7efa46",
   "metadata": {},
   "outputs": [
    {
     "name": "stdin",
     "output_type": "stream",
     "text": [
      "Enter a symbol:  5\n"
     ]
    },
    {
     "name": "stdout",
     "output_type": "stream",
     "text": [
      "'5' is NOT a letter. ❌\n"
     ]
    }
   ],
   "source": [
    "# Check if input is a letter\n",
    "\n",
    "symbol = input(\"Enter a symbol: \")\n",
    "\n",
    "if symbol.isalpha():\n",
    "    print(f\"'{symbol}' is a letter. ✅\")\n",
    "else:\n",
    "    print(f\"'{symbol}' is NOT a letter. ❌\")\n"
   ]
  },
  {
   "cell_type": "code",
   "execution_count": 3,
   "id": "662699ab-6650-4323-ae09-f7f7674bd128",
   "metadata": {},
   "outputs": [
    {
     "name": "stdin",
     "output_type": "stream",
     "text": [
      "Enter a symbol:  w\n"
     ]
    },
    {
     "name": "stdout",
     "output_type": "stream",
     "text": [
      "'w' is a letter. ✅\n"
     ]
    }
   ],
   "source": [
    "# Check if input is a letter\n",
    "\n",
    "symbol = input(\"Enter a symbol: \")\n",
    "\n",
    "if symbol.isalpha():\n",
    "    print(f\"'{symbol}' is a letter. ✅\")\n",
    "else:\n",
    "    print(f\"'{symbol}' is NOT a letter. ❌\")\n"
   ]
  },
  {
   "cell_type": "code",
   "execution_count": null,
   "id": "79a3e09b-f82c-461e-b8fc-62f0ed0c2475",
   "metadata": {},
   "outputs": [],
   "source": []
  }
 ],
 "metadata": {
  "kernelspec": {
   "display_name": "Python [conda env:base] *",
   "language": "python",
   "name": "conda-base-py"
  },
  "language_info": {
   "codemirror_mode": {
    "name": "ipython",
    "version": 3
   },
   "file_extension": ".py",
   "mimetype": "text/x-python",
   "name": "python",
   "nbconvert_exporter": "python",
   "pygments_lexer": "ipython3",
   "version": "3.13.5"
  }
 },
 "nbformat": 4,
 "nbformat_minor": 5
}
