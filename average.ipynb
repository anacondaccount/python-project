{
 "cells": [
  {
   "cell_type": "code",
   "execution_count": 9,
   "id": "ed03f5cb-cac9-4b51-9a65-a876619be351",
   "metadata": {},
   "outputs": [
    {
     "name": "stdin",
     "output_type": "stream",
     "text": [
      "Enter marks of music  50\n",
      "Enter marks of it  60\n",
      "Enter marks of art  70\n",
      "Enter marks of science  80\n",
      "Enter marks of math  90\n"
     ]
    },
    {
     "name": "stdout",
     "output_type": "stream",
     "text": [
      "70.0\n"
     ]
    }
   ],
   "source": [
    "music=int(input(\"Enter marks of music \"))\n",
    "IT=int(input(\"Enter marks of it \"))\n",
    "art=int(input(\"Enter marks of art \"))\n",
    "science=int(input(\"Enter marks of science \"))\n",
    "math=int(input(\"Enter marks of math \"))\n",
    "average=(music+IT+art+science+math)/5\n",
    "print(average)"
   ]
  },
  {
   "cell_type": "code",
   "execution_count": null,
   "id": "4788d27b-23a3-4354-b40a-b310e86023be",
   "metadata": {},
   "outputs": [],
   "source": []
  }
 ],
 "metadata": {
  "kernelspec": {
   "display_name": "Python [conda env:base] *",
   "language": "python",
   "name": "conda-base-py"
  },
  "language_info": {
   "codemirror_mode": {
    "name": "ipython",
    "version": 3
   },
   "file_extension": ".py",
   "mimetype": "text/x-python",
   "name": "python",
   "nbconvert_exporter": "python",
   "pygments_lexer": "ipython3",
   "version": "3.13.5"
  }
 },
 "nbformat": 4,
 "nbformat_minor": 5
}
