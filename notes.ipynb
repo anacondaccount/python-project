{
 "cells": [
  {
   "cell_type": "code",
   "execution_count": 3,
   "id": "9bb0966f-9c1f-4beb-9430-93566753face",
   "metadata": {},
   "outputs": [
    {
     "name": "stdin",
     "output_type": "stream",
     "text": [
      "enter amount of money to withdraw 5454540\n"
     ]
    },
    {
     "name": "stdout",
     "output_type": "stream",
     "text": [
      "bills of hundreds:  54545\n",
      "bills of fifty:  0\n",
      "bills of ten:  4\n",
      "bills of five:  0\n"
     ]
    }
   ],
   "source": [
    "amount=int(input(\"enter amount of money to withdraw\"))\n",
    "note100=amount//100\n",
    "note50=(amount%100)//50\n",
    "note10=((amount%100)%50)//10\n",
    "note5=(((amount%100)%50)%10)//5\n",
    "print (\"bills of hundreds: \",note100)\n",
    "print (\"bills of fifty: \",note50)\n",
    "print (\"bills of ten: \",note10)\n",
    "print (\"bills of five: \",note5)"
   ]
  },
  {
   "cell_type": "code",
   "execution_count": null,
   "id": "da2ced58-7ebe-4768-b919-88f1f81470c0",
   "metadata": {},
   "outputs": [],
   "source": []
  }
 ],
 "metadata": {
  "kernelspec": {
   "display_name": "Python [conda env:base] *",
   "language": "python",
   "name": "conda-base-py"
  },
  "language_info": {
   "codemirror_mode": {
    "name": "ipython",
    "version": 3
   },
   "file_extension": ".py",
   "mimetype": "text/x-python",
   "name": "python",
   "nbconvert_exporter": "python",
   "pygments_lexer": "ipython3",
   "version": "3.13.5"
  }
 },
 "nbformat": 4,
 "nbformat_minor": 5
}
