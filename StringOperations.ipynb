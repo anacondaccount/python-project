{
 "cells": [
  {
   "cell_type": "code",
   "execution_count": 3,
   "id": "918935e9-2e5d-4aaa-b719-792d9e51567b",
   "metadata": {},
   "outputs": [
    {
     "name": "stdout",
     "output_type": "stream",
     "text": [
      "HI HOW ARE YOU\n"
     ]
    }
   ],
   "source": [
    "sentence=\"hi how are you\"\n",
    "uppertext=sentence.upper()\n",
    "print (uppertext)"
   ]
  },
  {
   "cell_type": "code",
   "execution_count": 4,
   "id": "f1f94f24-9124-4411-9120-5118b633e95a",
   "metadata": {},
   "outputs": [
    {
     "name": "stdout",
     "output_type": "stream",
     "text": [
      "uoy era woh ih\n"
     ]
    }
   ],
   "source": [
    "reverse=sentence[::-1]\n",
    "print (reverse)"
   ]
  },
  {
   "cell_type": "code",
   "execution_count": 5,
   "id": "8649a98f-2ab4-4c65-bf1b-c191bec92b64",
   "metadata": {},
   "outputs": [
    {
     "name": "stdout",
     "output_type": "stream",
     "text": [
      "14\n"
     ]
    }
   ],
   "source": [
    "print(len(sentence))"
   ]
  },
  {
   "cell_type": "code",
   "execution_count": null,
   "id": "49ebc2cd-7aa0-421f-8f60-1063bdef25fb",
   "metadata": {},
   "outputs": [],
   "source": []
  }
 ],
 "metadata": {
  "kernelspec": {
   "display_name": "Python [conda env:base] *",
   "language": "python",
   "name": "conda-base-py"
  },
  "language_info": {
   "codemirror_mode": {
    "name": "ipython",
    "version": 3
   },
   "file_extension": ".py",
   "mimetype": "text/x-python",
   "name": "python",
   "nbconvert_exporter": "python",
   "pygments_lexer": "ipython3",
   "version": "3.13.5"
  }
 },
 "nbformat": 4,
 "nbformat_minor": 5
}
