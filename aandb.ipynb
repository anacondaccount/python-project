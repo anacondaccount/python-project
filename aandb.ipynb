{
 "cells": [
  {
   "cell_type": "code",
   "execution_count": 7,
   "id": "ffbf764a-0f25-4431-8bc9-f2cda60e9dc1",
   "metadata": {},
   "outputs": [
    {
     "name": "stdin",
     "output_type": "stream",
     "text": [
      "tell me a number 34\n",
      "tell me another number 34\n"
     ]
    },
    {
     "name": "stdout",
     "output_type": "stream",
     "text": [
      "34 is the same as 34\n"
     ]
    }
   ],
   "source": [
    "a=(int(input(\"tell me a number\")))\n",
    "b=(int(input(\"tell me another number\")))\n",
    "if a>b:\n",
    "    print(a,\"is greater than\",b)\n",
    "if a<b:\n",
    "    print(a,\"is less than\",b)\n",
    "if a==b:\n",
    "    print(a,\"is the same as\",b)"
   ]
  },
  {
   "cell_type": "code",
   "execution_count": null,
   "id": "e5706fb6-2235-4182-b6ea-60f260cb2155",
   "metadata": {},
   "outputs": [],
   "source": []
  }
 ],
 "metadata": {
  "kernelspec": {
   "display_name": "Python [conda env:base] *",
   "language": "python",
   "name": "conda-base-py"
  },
  "language_info": {
   "codemirror_mode": {
    "name": "ipython",
    "version": 3
   },
   "file_extension": ".py",
   "mimetype": "text/x-python",
   "name": "python",
   "nbconvert_exporter": "python",
   "pygments_lexer": "ipython3",
   "version": "3.13.5"
  }
 },
 "nbformat": 4,
 "nbformat_minor": 5
}
