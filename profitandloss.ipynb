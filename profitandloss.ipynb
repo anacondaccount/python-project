{
 "cells": [
  {
   "cell_type": "code",
   "execution_count": 5,
   "id": "4edcbe4d-738a-42ca-9c7f-41f99ef0b70b",
   "metadata": {},
   "outputs": [
    {
     "name": "stdin",
     "output_type": "stream",
     "text": [
      "how much did you spend 456\n",
      "how much did you sell it for 123\n"
     ]
    },
    {
     "name": "stdout",
     "output_type": "stream",
     "text": [
      "loss\n",
      "333\n"
     ]
    }
   ],
   "source": [
    "cost=(int(input(\"how much did you spend\")))\n",
    "sale=(int(input(\"how much did you sell it for\")))\n",
    "if sale>cost:\n",
    "    print(\"profit\")\n",
    "    profit=sale-cost\n",
    "    print(profit)\n",
    "if sale<cost:\n",
    "    print(\"loss\")\n",
    "    loss=cost-sale\n",
    "    print(loss)"
   ]
  },
  {
   "cell_type": "code",
   "execution_count": null,
   "id": "c2ec8878-86c1-4b61-8885-19e6d953934b",
   "metadata": {},
   "outputs": [],
   "source": []
  }
 ],
 "metadata": {
  "kernelspec": {
   "display_name": "Python [conda env:base] *",
   "language": "python",
   "name": "conda-base-py"
  },
  "language_info": {
   "codemirror_mode": {
    "name": "ipython",
    "version": 3
   },
   "file_extension": ".py",
   "mimetype": "text/x-python",
   "name": "python",
   "nbconvert_exporter": "python",
   "pygments_lexer": "ipython3",
   "version": "3.13.5"
  }
 },
 "nbformat": 4,
 "nbformat_minor": 5
}
