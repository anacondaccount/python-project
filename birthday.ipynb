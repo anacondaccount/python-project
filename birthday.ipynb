{
 "cells": [
  {
   "cell_type": "code",
   "execution_count": 3,
   "id": "d6114d21-8058-409b-80e2-da6db6242fb8",
   "metadata": {},
   "outputs": [
    {
     "name": "stdin",
     "output_type": "stream",
     "text": [
      "When is your birthday march\n",
      "when is your dad's birthday january\n",
      "When is your mom's birthday june\n",
      "When is your friend's birthday december\n",
      "When is your grandfather's birthday august\n"
     ]
    },
    {
     "name": "stdout",
     "output_type": "stream",
     "text": [
      "your birthday is on march\n",
      "your dad's birthday is on january\n",
      "your mom'sbirthday is on june\n",
      "your friend's birthday is on december\n",
      "your grandfather's birthday is on august\n"
     ]
    }
   ],
   "source": [
    "your= input(\"When is your birthday\")\n",
    "dad= input (\"when is your dad's birthday\")\n",
    "mom= input(\"When is your mom's birthday\")\n",
    "friend= input(\"When is your friend's birthday\")\n",
    "grandfather= input(\"When is your grandfather's birthday\")\n",
    "print (\"your birthday is on \"+your)\n",
    "print (\"your dad's birthday is on \"+dad)\n",
    "print (\"your mom'sbirthday is on \"+mom)\n",
    "print (\"your friend's birthday is on \"+friend)\n",
    "print (\"your grandfather's birthday is on \"+grandfather)"
   ]
  },
  {
   "cell_type": "code",
   "execution_count": null,
   "id": "fd3879df-751a-4769-be4a-68dc28ca80e4",
   "metadata": {},
   "outputs": [],
   "source": []
  }
 ],
 "metadata": {
  "kernelspec": {
   "display_name": "Python [conda env:base] *",
   "language": "python",
   "name": "conda-base-py"
  },
  "language_info": {
   "codemirror_mode": {
    "name": "ipython",
    "version": 3
   },
   "file_extension": ".py",
   "mimetype": "text/x-python",
   "name": "python",
   "nbconvert_exporter": "python",
   "pygments_lexer": "ipython3",
   "version": "3.13.5"
  }
 },
 "nbformat": 4,
 "nbformat_minor": 5
}
