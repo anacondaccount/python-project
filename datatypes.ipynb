{
 "cells": [
  {
   "cell_type": "code",
   "execution_count": 7,
   "id": "0e215873-e317-4849-9fdd-5d6b0484731b",
   "metadata": {},
   "outputs": [
    {
     "name": "stdout",
     "output_type": "stream",
     "text": [
      "<class 'int'>\n"
     ]
    }
   ],
   "source": [
    "number=7\n",
    "print (type(number))"
   ]
  },
  {
   "cell_type": "code",
   "execution_count": 8,
   "id": "1f688876-08af-4af6-a3c5-0a530ae60a48",
   "metadata": {},
   "outputs": [
    {
     "name": "stdout",
     "output_type": "stream",
     "text": [
      "<class 'str'>\n"
     ]
    }
   ],
   "source": [
    "name=\"Kawin\"\n",
    "print (type(name))"
   ]
  },
  {
   "cell_type": "code",
   "execution_count": 9,
   "id": "478bd516-e2d3-45d6-b924-6a59a2459043",
   "metadata": {},
   "outputs": [
    {
     "name": "stdout",
     "output_type": "stream",
     "text": [
      "<class 'float'>\n"
     ]
    }
   ],
   "source": [
    "age=12.5\n",
    "print (type(age))"
   ]
  },
  {
   "cell_type": "code",
   "execution_count": 10,
   "id": "27d37d7c-dd4b-46a8-bee4-38af170be619",
   "metadata": {},
   "outputs": [
    {
     "name": "stdout",
     "output_type": "stream",
     "text": [
      "<class 'bool'>\n"
     ]
    }
   ],
   "source": [
    "a=True\n",
    "print (type(a))"
   ]
  },
  {
   "cell_type": "code",
   "execution_count": 12,
   "id": "37dabe99-07da-44e5-aed7-fac52be1eccb",
   "metadata": {},
   "outputs": [
    {
     "name": "stdin",
     "output_type": "stream",
     "text": [
      "hello enter a number 3\n"
     ]
    },
    {
     "name": "stdout",
     "output_type": "stream",
     "text": [
      "<class 'str'>\n"
     ]
    }
   ],
   "source": [
    "number=input (\"hello enter a number\")\n",
    "#THe default data type of inputs in python is always string\n",
    "print (type(number))"
   ]
  },
  {
   "cell_type": "code",
   "execution_count": null,
   "id": "f868d105-5259-4580-99df-f28e1ca0ea94",
   "metadata": {},
   "outputs": [],
   "source": []
  }
 ],
 "metadata": {
  "kernelspec": {
   "display_name": "Python [conda env:base] *",
   "language": "python",
   "name": "conda-base-py"
  },
  "language_info": {
   "codemirror_mode": {
    "name": "ipython",
    "version": 3
   },
   "file_extension": ".py",
   "mimetype": "text/x-python",
   "name": "python",
   "nbconvert_exporter": "python",
   "pygments_lexer": "ipython3",
   "version": "3.13.5"
  }
 },
 "nbformat": 4,
 "nbformat_minor": 5
}
