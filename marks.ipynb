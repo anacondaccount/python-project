{
 "cells": [
  {
   "cell_type": "code",
   "execution_count": 3,
   "id": "f1481dc4-6ad3-46f3-ab6e-dda12ce46fcd",
   "metadata": {
    "jp-MarkdownHeadingCollapsed": true
   },
   "outputs": [
    {
     "name": "stdout",
     "output_type": "stream",
     "text": [
      "all marks should be out of hundred\n"
     ]
    },
    {
     "name": "stdin",
     "output_type": "stream",
     "text": [
      "Enter marks of music  50\n",
      "Enter marks of it  60\n",
      "Enter marks of art  80\n",
      "Enter marks of science  90\n",
      "Enter marks of math  100\n"
     ]
    },
    {
     "name": "stdout",
     "output_type": "stream",
     "text": [
      "76.0\n"
     ]
    }
   ],
   "source": [
    "print(\"all marks should be out of hundred\")\n",
    "music=int(input(\"Enter marks of music \"))\n",
    "IT=int(input(\"Enter marks of it \"))\n",
    "art=int(input(\"Enter marks of art \"))\n",
    "science=int(input(\"Enter marks of science \"))\n",
    "math=int(input(\"Enter marks of math \"))\n",
    "Totalmarks= 500\n",
    "obtainedmarks=music+IT+art+science+math\n",
    "percentage =obtainedmarks/Totalmarks*100\n",
    "print (percentage)"
   ]
  },
  {
   "cell_type": "code",
   "execution_count": null,
   "id": "192fd659-b4a0-4d0d-969e-6e7fcba90126",
   "metadata": {},
   "outputs": [],
   "source": []
  },
  {
   "cell_type": "code",
   "execution_count": null,
   "id": "9d1655fe-3497-449a-a810-67363d6b624b",
   "metadata": {},
   "outputs": [],
   "source": []
  }
 ],
 "metadata": {
  "kernelspec": {
   "display_name": "Python [conda env:base] *",
   "language": "python",
   "name": "conda-base-py"
  },
  "language_info": {
   "codemirror_mode": {
    "name": "ipython",
    "version": 3
   },
   "file_extension": ".py",
   "mimetype": "text/x-python",
   "name": "python",
   "nbconvert_exporter": "python",
   "pygments_lexer": "ipython3",
   "version": "3.13.5"
  }
 },
 "nbformat": 4,
 "nbformat_minor": 5
}
