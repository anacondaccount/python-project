{
 "cells": [
  {
   "cell_type": "code",
   "execution_count": 4,
   "id": "e349b5eb-3995-4fd5-9785-c86c65d77685",
   "metadata": {},
   "outputs": [
    {
     "name": "stdin",
     "output_type": "stream",
     "text": [
      "enter first number 123456\n",
      "enter second number 2\n",
      "enter third number 1\n"
     ]
    },
    {
     "name": "stdout",
     "output_type": "stream",
     "text": [
      "a is greatest of them all\n"
     ]
    }
   ],
   "source": [
    "a=(int(input(\"enter first number\")))\n",
    "b=(int(input(\"enter second number\")))\n",
    "c=(int(input(\"enter third number\")))\n",
    "if (a>b and a>c):\n",
    "    print (\"a is greatest of them all\")\n",
    "elif (b>a and b>c):\n",
    "    print (\"b is greatest of them all\")\n",
    "elif (c>a and c>b):\n",
    "    print (\"c is greatest of them all\")"
   ]
  },
  {
   "cell_type": "code",
   "execution_count": 5,
   "id": "bfe92164-4c9f-4270-8237-661c039f9372",
   "metadata": {},
   "outputs": [
    {
     "name": "stdin",
     "output_type": "stream",
     "text": [
      "enter first number 2\n",
      "enter second number 123456\n",
      "enter third number 4\n"
     ]
    },
    {
     "name": "stdout",
     "output_type": "stream",
     "text": [
      "b is greatest of them all\n"
     ]
    }
   ],
   "source": [
    "a=(int(input(\"enter first number\")))\n",
    "b=(int(input(\"enter second number\")))\n",
    "c=(int(input(\"enter third number\")))\n",
    "if (a>b and a>c):\n",
    "    print (\"a is greatest of them all\")\n",
    "elif (b>a and b>c):\n",
    "    print (\"b is greatest of them all\")\n",
    "elif (c>a and c>b):\n",
    "    print (\"c is greatest of them all\")"
   ]
  },
  {
   "cell_type": "code",
   "execution_count": 6,
   "id": "76115c2f-afd4-4194-8b6c-c050026d1e1c",
   "metadata": {},
   "outputs": [
    {
     "name": "stdin",
     "output_type": "stream",
     "text": [
      "enter first number 4\n",
      "enter second number 5\n",
      "enter third number 12345678\n"
     ]
    },
    {
     "name": "stdout",
     "output_type": "stream",
     "text": [
      "c is greatest of them all\n"
     ]
    }
   ],
   "source": [
    "a=(int(input(\"enter first number\")))\n",
    "b=(int(input(\"enter second number\")))\n",
    "c=(int(input(\"enter third number\")))\n",
    "if (a>b and a>c):\n",
    "    print (\"a is greatest of them all\")\n",
    "elif (b>a and b>c):\n",
    "    print (\"b is greatest of them all\")\n",
    "elif (c>a and c>b):\n",
    "    print (\"c is greatest of them all\")"
   ]
  },
  {
   "cell_type": "code",
   "execution_count": null,
   "id": "728262db-9a41-43c4-bed5-2095be23faaf",
   "metadata": {},
   "outputs": [],
   "source": []
  }
 ],
 "metadata": {
  "kernelspec": {
   "display_name": "Python [conda env:base] *",
   "language": "python",
   "name": "conda-base-py"
  },
  "language_info": {
   "codemirror_mode": {
    "name": "ipython",
    "version": 3
   },
   "file_extension": ".py",
   "mimetype": "text/x-python",
   "name": "python",
   "nbconvert_exporter": "python",
   "pygments_lexer": "ipython3",
   "version": "3.13.5"
  }
 },
 "nbformat": 4,
 "nbformat_minor": 5
}
